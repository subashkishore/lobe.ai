{
  "nbformat": 4,
  "nbformat_minor": 0,
  "metadata": {
    "colab": {
      "name": "csd@.ipynb",
      "provenance": [],
      "authorship_tag": "ABX9TyPL7JKYAC2Xqr6ab/TF0jXY",
      "include_colab_link": true
    },
    "kernelspec": {
      "name": "python3",
      "display_name": "Python 3"
    },
    "language_info": {
      "name": "python"
    }
  },
  "cells": [
    {
      "cell_type": "markdown",
      "metadata": {
        "id": "view-in-github",
        "colab_type": "text"
      },
      "source": [
        "<a href=\"https://colab.research.google.com/github/subashkishore/lobe.ai/blob/main/csd_.ipynb\" target=\"_parent\"><img src=\"https://colab.research.google.com/assets/colab-badge.svg\" alt=\"Open In Colab\"/></a>"
      ]
    },
    {
      "cell_type": "code",
      "execution_count": 15,
      "metadata": {
        "colab": {
          "base_uri": "https://localhost:8080/"
        },
        "id": "LWhxSqcEUUUv",
        "outputId": "3b272d2e-5de2-4901-8169-635322822360"
      },
      "outputs": [
        {
          "output_type": "stream",
          "name": "stdout",
          "text": [
            "['apple', 'carrot', 'sapota']\n",
            "['apple', 'carrot', 'sapota', 'melon']\n",
            "<class 'list'>\n",
            "['apple', 'kiwi', 'carrot', 'sapota', 'melon']\n",
            "sapota\n",
            "['apple', 'kiwi', 'carrot', 'melon']\n",
            "['apple', 'kiwi', 'melon']\n"
          ]
        }
      ],
      "source": [
        "fruits=[\"apple\",\"carrot\",\"sapota\"]\n",
        "print(fruits)\n",
        "fruits.append(\"melon\")\n",
        "print(fruits)\n",
        "print(type(fruits))\n",
        "fruits.insert(1,\"kiwi\")\n",
        "print(fruits)\n",
        "print(fruits[-2])\n",
        "fruits.pop(3)\n",
        "print(fruits)\n",
        "fruits.remove('carrot')\n",
        "print(fruits)\n"
      ]
    }
  ]
}