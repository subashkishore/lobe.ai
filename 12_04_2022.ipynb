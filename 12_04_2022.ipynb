{
  "nbformat": 4,
  "nbformat_minor": 0,
  "metadata": {
    "colab": {
      "name": "12/04/2022.ipynb",
      "provenance": [],
      "authorship_tag": "ABX9TyPWnugawyXnm9Sj+Ze/HjGf",
      "include_colab_link": true
    },
    "kernelspec": {
      "name": "python3",
      "display_name": "Python 3"
    },
    "language_info": {
      "name": "python"
    }
  },
  "cells": [
    {
      "cell_type": "markdown",
      "metadata": {
        "id": "view-in-github",
        "colab_type": "text"
      },
      "source": [
        "<a href=\"https://colab.research.google.com/github/subashkishore/lobe.ai/blob/main/12_04_2022.ipynb\" target=\"_parent\"><img src=\"https://colab.research.google.com/assets/colab-badge.svg\" alt=\"Open In Colab\"/></a>"
      ]
    },
    {
      "cell_type": "code",
      "execution_count": 8,
      "metadata": {
        "colab": {
          "base_uri": "https://localhost:8080/"
        },
        "id": "eaedKf5KSDF2",
        "outputId": "f494c548-43ff-4469-8d63-eb55be4d5f70"
      },
      "outputs": [
        {
          "output_type": "stream",
          "name": "stdout",
          "text": [
            "2\n",
            "3\n",
            "5\n",
            "7\n",
            "11\n",
            "13\n",
            "17\n",
            "19\n",
            "23\n",
            "29\n",
            "31\n",
            "37\n",
            "41\n",
            "43\n",
            "47\n",
            "53\n",
            "59\n",
            "61\n",
            "67\n",
            "71\n",
            "73\n",
            "79\n",
            "83\n",
            "89\n",
            "97\n",
            "101\n",
            "103\n",
            "107\n",
            "109\n",
            "113\n",
            "127\n",
            "131\n",
            "137\n",
            "139\n",
            "149\n",
            "151\n",
            "157\n",
            "163\n",
            "167\n",
            "173\n",
            "179\n",
            "181\n",
            "191\n",
            "193\n",
            "197\n",
            "199\n"
          ]
        }
      ],
      "source": [
        "low=1\n",
        "up=199\n",
        "for i in range(low,up+1):\n",
        "  if i>1:\n",
        "    for j in range(2,i):\n",
        "      if(i%j)==0:\n",
        "        break\n",
        "    else:\n",
        "         print(i)  "
      ]
    },
    {
      "cell_type": "code",
      "source": [
        "s=int(input())\n",
        "for i in range(1,11):\n",
        "  z=s*i\n",
        "  print(s,\"*\",i,\"=\",z)"
      ],
      "metadata": {
        "colab": {
          "base_uri": "https://localhost:8080/"
        },
        "id": "Zx16K6bLTXNV",
        "outputId": "3e6b14cb-8776-4b5c-9892-e25fccb5053d"
      },
      "execution_count": 9,
      "outputs": [
        {
          "output_type": "stream",
          "name": "stdout",
          "text": [
            "55\n",
            "55 * 1 = 55\n",
            "55 * 2 = 110\n",
            "55 * 3 = 165\n",
            "55 * 4 = 220\n",
            "55 * 5 = 275\n",
            "55 * 6 = 330\n",
            "55 * 7 = 385\n",
            "55 * 8 = 440\n",
            "55 * 9 = 495\n",
            "55 * 10 = 550\n"
          ]
        }
      ]
    },
    {
      "cell_type": "code",
      "source": [
        "s=int(input())\n",
        "sum=0\n",
        "for i in range(1,s+1):\n",
        "  if s==0:\n",
        "    print(\"not natural number\")\n",
        "  sum=sum+i\n",
        "print(sum)"
      ],
      "metadata": {
        "colab": {
          "base_uri": "https://localhost:8080/"
        },
        "id": "bZJZ21hpULf0",
        "outputId": "0bb628fb-06df-43d1-a3dd-234a026b5c17"
      },
      "execution_count": 23,
      "outputs": [
        {
          "output_type": "stream",
          "name": "stdout",
          "text": [
            "10\n",
            "55\n"
          ]
        }
      ]
    },
    {
      "cell_type": "code",
      "source": [
        "s=[1,2,3,4,5,6,7,88,99]\n",
        "print(s[:3])"
      ],
      "metadata": {
        "colab": {
          "base_uri": "https://localhost:8080/"
        },
        "id": "O8Wfq-vsXZH_",
        "outputId": "3bc1017c-0bc0-4e19-bf6f-6f7c536822b7"
      },
      "execution_count": 24,
      "outputs": [
        {
          "output_type": "stream",
          "name": "stdout",
          "text": [
            "[1, 2, 3]\n"
          ]
        }
      ]
    },
    {
      "cell_type": "code",
      "source": [
        ""
      ],
      "metadata": {
        "id": "pg15Zx8UaEYG"
      },
      "execution_count": null,
      "outputs": []
    }
  ]
}